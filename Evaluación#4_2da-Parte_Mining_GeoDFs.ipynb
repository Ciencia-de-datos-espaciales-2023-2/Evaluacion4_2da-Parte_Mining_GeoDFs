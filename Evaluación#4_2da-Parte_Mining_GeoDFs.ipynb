{
 "cells": [
  {
   "cell_type": "markdown",
   "id": "bce2dd86",
   "metadata": {},
   "source": [
    "# Ejercicios Parte II\n",
    "## Li Yang, Patiy - 20191294\n",
    "Los ejercicios 5, 6, 7, 8 y 9 de esta parte deben leer su data de links en Github y el código y los resultados deben ser publicados en páginas en Github. Este es un proyecto distinto y los ejercicios tienen que ser publicados en una página diferente."
   ]
  },
  {
   "cell_type": "markdown",
   "id": "29290b4b",
   "metadata": {},
   "source": [
    "## Ejercicio 5\n",
    "\n",
    "1. Get a polygons map of the lowest administrative unit possible.    \n",
    "2. Get a table of variables for those units. At least 3 numerical variables.\n",
    "3. Preprocess both tables and get them ready for merging. \n",
    "4. Do the merging, making the changes needed so that you keep the most columns."
   ]
  },
  {
   "cell_type": "markdown",
   "id": "3093154b",
   "metadata": {},
   "source": [
    "**5.1. Subdivisiones administrativas a nivel de prefecturas en China (ADM2)**\n",
    "\n",
    "Fuente: [China - Subnational Administrative Boundaries](https://data.humdata.org/dataset/cod-ab-chn).\n",
    "\n",
    "Notar que ADM1 es la subdivisión a nivel de provincia, mientras que ADM2, es aquella a nivel de prefectura. El GeoDataFrame del mapa de polígonos de las subdiviciones administrativas ADM2 fue procesado anteriormente en el Jupyter Notebook PreproEvaluación#4_2da-Parte_Mining_GeoDFs. Este se encuentra proyectado con un crs de 3415."
   ]
  },
  {
   "cell_type": "code",
   "execution_count": 52,
   "id": "d1983967",
   "metadata": {},
   "outputs": [
    {
     "data": {
      "text/html": [
       "<div>\n",
       "<style scoped>\n",
       "    .dataframe tbody tr th:only-of-type {\n",
       "        vertical-align: middle;\n",
       "    }\n",
       "\n",
       "    .dataframe tbody tr th {\n",
       "        vertical-align: top;\n",
       "    }\n",
       "\n",
       "    .dataframe thead th {\n",
       "        text-align: right;\n",
       "    }\n",
       "</style>\n",
       "<table border=\"1\" class=\"dataframe\">\n",
       "  <thead>\n",
       "    <tr style=\"text-align: right;\">\n",
       "      <th></th>\n",
       "      <th>ADM1_PCODE</th>\n",
       "      <th>ADM2_PCODE</th>\n",
       "      <th>ADM1+ADM2</th>\n",
       "      <th>geometry</th>\n",
       "    </tr>\n",
       "  </thead>\n",
       "  <tbody>\n",
       "    <tr>\n",
       "      <th>0</th>\n",
       "      <td>CN065</td>\n",
       "      <td>CN065100</td>\n",
       "      <td>XinjiangUygurAutonomousRegion+Karamay</td>\n",
       "      <td>POLYGON ((-1970139.776 3501254.481, -1968482.7...</td>\n",
       "    </tr>\n",
       "    <tr>\n",
       "      <th>1</th>\n",
       "      <td>CN065</td>\n",
       "      <td>CN065060</td>\n",
       "      <td>XinjiangUygurAutonomousRegion+ChangjiHuiAutono...</td>\n",
       "      <td>POLYGON ((-1435866.505 3385323.591, -1441284.2...</td>\n",
       "    </tr>\n",
       "    <tr>\n",
       "      <th>2</th>\n",
       "      <td>CN065</td>\n",
       "      <td>CN065130</td>\n",
       "      <td>XinjiangUygurAutonomousRegion+Shihezi</td>\n",
       "      <td>POLYGON ((-1920371.401 3365547.617, -1922878.1...</td>\n",
       "    </tr>\n",
       "    <tr>\n",
       "      <th>3</th>\n",
       "      <td>CN015</td>\n",
       "      <td>CN015120</td>\n",
       "      <td>InnerMongoliaAutonomousRegion+XilingolLeague</td>\n",
       "      <td>POLYGON ((993809.799 3455055.691, 1001127.812 ...</td>\n",
       "    </tr>\n",
       "    <tr>\n",
       "      <th>4</th>\n",
       "      <td>CN021</td>\n",
       "      <td>CN021020</td>\n",
       "      <td>LiaoningProvince+Benxi</td>\n",
       "      <td>POLYGON ((1534098.705 2791209.973, 1528098.355...</td>\n",
       "    </tr>\n",
       "  </tbody>\n",
       "</table>\n",
       "</div>"
      ],
      "text/plain": [
       "  ADM1_PCODE ADM2_PCODE                                          ADM1+ADM2  \\\n",
       "0      CN065   CN065100              XinjiangUygurAutonomousRegion+Karamay   \n",
       "1      CN065   CN065060  XinjiangUygurAutonomousRegion+ChangjiHuiAutono...   \n",
       "2      CN065   CN065130              XinjiangUygurAutonomousRegion+Shihezi   \n",
       "3      CN015   CN015120       InnerMongoliaAutonomousRegion+XilingolLeague   \n",
       "4      CN021   CN021020                             LiaoningProvince+Benxi   \n",
       "\n",
       "                                            geometry  \n",
       "0  POLYGON ((-1970139.776 3501254.481, -1968482.7...  \n",
       "1  POLYGON ((-1435866.505 3385323.591, -1441284.2...  \n",
       "2  POLYGON ((-1920371.401 3365547.617, -1922878.1...  \n",
       "3  POLYGON ((993809.799 3455055.691, 1001127.812 ...  \n",
       "4  POLYGON ((1534098.705 2791209.973, 1528098.355...  "
      ]
     },
     "execution_count": 52,
     "metadata": {},
     "output_type": "execute_result"
    }
   ],
   "source": [
    "import geopandas as gpd\n",
    "\n",
    "China3415_maps = \"https://github.com/Ciencia-de-datos-espaciales-2023-2/Evaluacion4_2da-Parte_Mining_GeoDFs/raw/main/maps/China3415_maps/China3415_GeoMap.gpkg\"\n",
    "China_ADM2 = gpd.read_file(China3415_maps,layer=\"PrefectureLevel_ADM2\")\n",
    "China_ADM2.head()"
   ]
  },
  {
   "cell_type": "markdown",
   "id": "0027dcc9",
   "metadata": {},
   "source": [
    "**5.2.,5.3. y 5.4. Preprocesamiento de tablas con variables numéricas y *Merging***\n",
    "\n",
    "No se logró conseguir una tabla con 3 variables numéricas, pero sí 3 tablas con 1 variable numérica cada una. Por tanto, se deberá realizar un *merge* de las 3 tablas. Las variables numéricas son las siguientes:\n",
    "\n",
    "- Índice normalizado de diferencia de vegetación ( \"normalized difference vegetation index\" o NDVI). Fuente: [China: NDVI at Subnational Level](https://data.humdata.org/dataset/chn-ndvi-subnational)\n",
    "\n",
    "- Indicadores SDG 7.1.1 (\"Sustainable Development Goals\") del porcentaje de la población con acceso a la electricidad. Fuente: [SDG Indicator 7.1.1: Access to Electricity, 2023 Release (2020 – 2022)](https://sedac.ciesin.columbia.edu/data/set/sdgi-7-1-1-access-electricity-2023)\n",
    "\n",
    "- Indicadores SDG 9.1.1 (\"Sustainable Development Goals\") del índice de acceso rural, que alude al porcentaje de la población que vive al menos a 2 kilómetros de una carretera transitable. Fuente: [SDG Indicator 9.1.1: The Rural Access Index (RAI), 2023 Release (2015 – 2022)](https://sedac.ciesin.columbia.edu/data/set/sdgi-9-1-1-rai-2023)\n",
    "\n",
    "Las tres tablas ya fueron procesadas de forma individual en el Jupyter Notebook PreproEvaluación#4_2da-Parte_Mining_GeoDFs:"
   ]
  },
  {
   "cell_type": "markdown",
   "id": "15ccde2e",
   "metadata": {},
   "source": [
    "`a) Tabla con los valores promedios de índices normalizados de la diferencia de vegetación (NDVI, por sus siglas en inglés) en subdivisiones administrativas a nivel de prefecturas (AMD2) en China: NDVI_China2023`\n",
    "\n",
    "Nota: La tabla contiene 334 datos"
   ]
  },
  {
   "cell_type": "code",
   "execution_count": 53,
   "id": "067015f0",
   "metadata": {},
   "outputs": [
    {
     "data": {
      "text/html": [
       "<div>\n",
       "<style scoped>\n",
       "    .dataframe tbody tr th:only-of-type {\n",
       "        vertical-align: middle;\n",
       "    }\n",
       "\n",
       "    .dataframe tbody tr th {\n",
       "        vertical-align: top;\n",
       "    }\n",
       "\n",
       "    .dataframe thead th {\n",
       "        text-align: right;\n",
       "    }\n",
       "</style>\n",
       "<table border=\"1\" class=\"dataframe\">\n",
       "  <thead>\n",
       "    <tr style=\"text-align: right;\">\n",
       "      <th></th>\n",
       "      <th>ADM2_PCODE</th>\n",
       "      <th>NDVI_avg</th>\n",
       "    </tr>\n",
       "  </thead>\n",
       "  <tbody>\n",
       "    <tr>\n",
       "      <th>0</th>\n",
       "      <td>CN053160</td>\n",
       "      <td>0.6006</td>\n",
       "    </tr>\n",
       "    <tr>\n",
       "      <th>1</th>\n",
       "      <td>CN053020</td>\n",
       "      <td>0.6633</td>\n",
       "    </tr>\n",
       "    <tr>\n",
       "      <th>2</th>\n",
       "      <td>CN053060</td>\n",
       "      <td>0.6767</td>\n",
       "    </tr>\n",
       "    <tr>\n",
       "      <th>3</th>\n",
       "      <td>CN054050</td>\n",
       "      <td>0.3202</td>\n",
       "    </tr>\n",
       "    <tr>\n",
       "      <th>4</th>\n",
       "      <td>CN053130</td>\n",
       "      <td>0.6666</td>\n",
       "    </tr>\n",
       "  </tbody>\n",
       "</table>\n",
       "</div>"
      ],
      "text/plain": [
       "  ADM2_PCODE  NDVI_avg\n",
       "0   CN053160    0.6006\n",
       "1   CN053020    0.6633\n",
       "2   CN053060    0.6767\n",
       "3   CN054050    0.3202\n",
       "4   CN053130    0.6666"
      ]
     },
     "execution_count": 53,
     "metadata": {},
     "output_type": "execute_result"
    }
   ],
   "source": [
    "import pandas as pd\n",
    "\n",
    "NDVI_Link = \"https://github.com/Ciencia-de-datos-espaciales-2023-2/Evaluacion4_2da-Parte_Mining_GeoDFs/raw/main/data/NDVI_China2023_prepro.csv\"\n",
    "NDVI_China2023 = pd.read_csv(NDVI_Link,index_col=0)\n",
    "NDVI_China2023.head()"
   ]
  },
  {
   "cell_type": "markdown",
   "id": "9fa631ef",
   "metadata": {},
   "source": [
    "`b) Tabla con indicadores del porcentaje de la población con acceso a la electricidad en subdivisiones administrativas a nivel de prefecturas (AMD2) en China: SDG711_ElectricityAccess_China2023`\n",
    "\n",
    "Nota: La tabla contiene 344 datos"
   ]
  },
  {
   "cell_type": "code",
   "execution_count": 54,
   "id": "f0489f68",
   "metadata": {},
   "outputs": [
    {
     "data": {
      "text/html": [
       "<div>\n",
       "<style scoped>\n",
       "    .dataframe tbody tr th:only-of-type {\n",
       "        vertical-align: middle;\n",
       "    }\n",
       "\n",
       "    .dataframe tbody tr th {\n",
       "        vertical-align: top;\n",
       "    }\n",
       "\n",
       "    .dataframe thead th {\n",
       "        text-align: right;\n",
       "    }\n",
       "</style>\n",
       "<table border=\"1\" class=\"dataframe\">\n",
       "  <thead>\n",
       "    <tr style=\"text-align: right;\">\n",
       "      <th></th>\n",
       "      <th>SDG711_pct</th>\n",
       "      <th>ADM1+ADM2</th>\n",
       "    </tr>\n",
       "  </thead>\n",
       "  <tbody>\n",
       "    <tr>\n",
       "      <th>0</th>\n",
       "      <td>51.056611</td>\n",
       "      <td>Anhui+Anqing</td>\n",
       "    </tr>\n",
       "    <tr>\n",
       "      <th>1</th>\n",
       "      <td>70.505872</td>\n",
       "      <td>Anhui+Bengbu</td>\n",
       "    </tr>\n",
       "    <tr>\n",
       "      <th>2</th>\n",
       "      <td>57.124918</td>\n",
       "      <td>Anhui+Bozhou</td>\n",
       "    </tr>\n",
       "    <tr>\n",
       "      <th>3</th>\n",
       "      <td>65.594567</td>\n",
       "      <td>Anhui+Chaohu</td>\n",
       "    </tr>\n",
       "    <tr>\n",
       "      <th>4</th>\n",
       "      <td>50.803892</td>\n",
       "      <td>Anhui+Chizhou</td>\n",
       "    </tr>\n",
       "  </tbody>\n",
       "</table>\n",
       "</div>"
      ],
      "text/plain": [
       "   SDG711_pct      ADM1+ADM2\n",
       "0   51.056611   Anhui+Anqing\n",
       "1   70.505872   Anhui+Bengbu\n",
       "2   57.124918   Anhui+Bozhou\n",
       "3   65.594567   Anhui+Chaohu\n",
       "4   50.803892  Anhui+Chizhou"
      ]
     },
     "execution_count": 54,
     "metadata": {},
     "output_type": "execute_result"
    }
   ],
   "source": [
    "SDG711_Link = \"https://github.com/Ciencia-de-datos-espaciales-2023-2/Evaluacion4_2da-Parte_Mining_GeoDFs/raw/main/data/SDG711_ElectricityAccess_China2023_prepro.csv\"\n",
    "SDG711_ElectricityAccess_China2023 = pd.read_csv(SDG711_Link,index_col=0)\n",
    "SDG711_ElectricityAccess_China2023.head()"
   ]
  },
  {
   "cell_type": "markdown",
   "id": "99e6e109",
   "metadata": {},
   "source": [
    "`c) Tabla con indicadores porcentuales del índice de acceso rural en subdivisiones administrativas a nivel de prefecturas (AMD2) en China: SDG911_RuralAccess_China2023`\n",
    "\n",
    "Nota: La tabla contiene 344 datos"
   ]
  },
  {
   "cell_type": "code",
   "execution_count": 55,
   "id": "72bacd9a",
   "metadata": {},
   "outputs": [
    {
     "data": {
      "text/html": [
       "<div>\n",
       "<style scoped>\n",
       "    .dataframe tbody tr th:only-of-type {\n",
       "        vertical-align: middle;\n",
       "    }\n",
       "\n",
       "    .dataframe tbody tr th {\n",
       "        vertical-align: top;\n",
       "    }\n",
       "\n",
       "    .dataframe thead th {\n",
       "        text-align: right;\n",
       "    }\n",
       "</style>\n",
       "<table border=\"1\" class=\"dataframe\">\n",
       "  <thead>\n",
       "    <tr style=\"text-align: right;\">\n",
       "      <th></th>\n",
       "      <th>SDG911_pct</th>\n",
       "      <th>ADM1+ADM2</th>\n",
       "    </tr>\n",
       "  </thead>\n",
       "  <tbody>\n",
       "    <tr>\n",
       "      <th>0</th>\n",
       "      <td>84.749728</td>\n",
       "      <td>Anhui+Anqing</td>\n",
       "    </tr>\n",
       "    <tr>\n",
       "      <th>1</th>\n",
       "      <td>94.908604</td>\n",
       "      <td>Anhui+Bengbu</td>\n",
       "    </tr>\n",
       "    <tr>\n",
       "      <th>2</th>\n",
       "      <td>95.735585</td>\n",
       "      <td>Anhui+Bozhou</td>\n",
       "    </tr>\n",
       "    <tr>\n",
       "      <th>3</th>\n",
       "      <td>95.028170</td>\n",
       "      <td>Anhui+Chaohu</td>\n",
       "    </tr>\n",
       "    <tr>\n",
       "      <th>4</th>\n",
       "      <td>80.718768</td>\n",
       "      <td>Anhui+Chizhou</td>\n",
       "    </tr>\n",
       "  </tbody>\n",
       "</table>\n",
       "</div>"
      ],
      "text/plain": [
       "   SDG911_pct      ADM1+ADM2\n",
       "0   84.749728   Anhui+Anqing\n",
       "1   94.908604   Anhui+Bengbu\n",
       "2   95.735585   Anhui+Bozhou\n",
       "3   95.028170   Anhui+Chaohu\n",
       "4   80.718768  Anhui+Chizhou"
      ]
     },
     "execution_count": 55,
     "metadata": {},
     "output_type": "execute_result"
    }
   ],
   "source": [
    "SDG911_Link = \"https://github.com/Ciencia-de-datos-espaciales-2023-2/Evaluacion4_2da-Parte_Mining_GeoDFs/raw/main/data/SDG911_RuralAccess_China2023_prepro.csv\"\n",
    "SDG911_RuralAccess_China2023 = pd.read_csv(SDG911_Link,index_col=0)\n",
    "SDG911_RuralAccess_China2023.head()"
   ]
  },
  {
   "cell_type": "markdown",
   "id": "7507fd15",
   "metadata": {},
   "source": [
    "Como se observa, no es posible realizar un *merge* de las tres columnas, porque no todas comparten una en común. Por esto, se realizará lo siguiente:\n",
    "1. *Merge* de SDG711_ElectricityAccess_China2023 y SDG911_RuralAccess_China2023, mediante la columna \"ADM1+ADM2\".\n",
    "2. *Merge* de NDVI_China2023 y SDG911_RuralAccess_China2023, mediante la columna \"ADM2_PCODE\".\n",
    "3. *Fuzy Merge* de las tablas resultantes de 1 y 2, porque comparten la columna \"ADM1+ADM2\", pero el formato de los nombres no es el mismo."
   ]
  },
  {
   "cell_type": "markdown",
   "id": "6d3a29af",
   "metadata": {},
   "source": [
    "`d) *Merging* de SDG711_ElectricityAccess_China2023 y SDG911_RuralAccess_China2023 mediante la columna \"ADM1+AM2\"`\n",
    "\n",
    "Nota: Ambas tablas contienen 344 filas y comparten las mismas filas correspondientes a subdivisiones ADM2. La tabla resultante del *merging* también contiene 344 filas, lo cual evidencia que no se ha repetido u omitido algún dato."
   ]
  },
  {
   "cell_type": "code",
   "execution_count": 56,
   "id": "6da0bea1",
   "metadata": {},
   "outputs": [
    {
     "data": {
      "text/plain": [
       "(set(), set())"
      ]
     },
     "execution_count": 56,
     "metadata": {},
     "output_type": "execute_result"
    }
   ],
   "source": [
    "a = set(SDG711_ElectricityAccess_China2023[\"ADM1+ADM2\"].to_list()) \n",
    "b = set(SDG911_RuralAccess_China2023[\"ADM1+ADM2\"].to_list())\n",
    "a-b, b-a"
   ]
  },
  {
   "cell_type": "code",
   "execution_count": 57,
   "id": "09755a17",
   "metadata": {},
   "outputs": [
    {
     "data": {
      "text/html": [
       "<div>\n",
       "<style scoped>\n",
       "    .dataframe tbody tr th:only-of-type {\n",
       "        vertical-align: middle;\n",
       "    }\n",
       "\n",
       "    .dataframe tbody tr th {\n",
       "        vertical-align: top;\n",
       "    }\n",
       "\n",
       "    .dataframe thead th {\n",
       "        text-align: right;\n",
       "    }\n",
       "</style>\n",
       "<table border=\"1\" class=\"dataframe\">\n",
       "  <thead>\n",
       "    <tr style=\"text-align: right;\">\n",
       "      <th></th>\n",
       "      <th>SDG711_pct</th>\n",
       "      <th>ADM1+ADM2</th>\n",
       "      <th>SDG911_pct</th>\n",
       "    </tr>\n",
       "  </thead>\n",
       "  <tbody>\n",
       "    <tr>\n",
       "      <th>0</th>\n",
       "      <td>51.056611</td>\n",
       "      <td>Anhui+Anqing</td>\n",
       "      <td>84.749728</td>\n",
       "    </tr>\n",
       "    <tr>\n",
       "      <th>1</th>\n",
       "      <td>70.505872</td>\n",
       "      <td>Anhui+Bengbu</td>\n",
       "      <td>94.908604</td>\n",
       "    </tr>\n",
       "    <tr>\n",
       "      <th>2</th>\n",
       "      <td>57.124918</td>\n",
       "      <td>Anhui+Bozhou</td>\n",
       "      <td>95.735585</td>\n",
       "    </tr>\n",
       "    <tr>\n",
       "      <th>3</th>\n",
       "      <td>65.594567</td>\n",
       "      <td>Anhui+Chaohu</td>\n",
       "      <td>95.028170</td>\n",
       "    </tr>\n",
       "    <tr>\n",
       "      <th>4</th>\n",
       "      <td>50.803892</td>\n",
       "      <td>Anhui+Chizhou</td>\n",
       "      <td>80.718768</td>\n",
       "    </tr>\n",
       "    <tr>\n",
       "      <th>...</th>\n",
       "      <td>...</td>\n",
       "      <td>...</td>\n",
       "      <td>...</td>\n",
       "    </tr>\n",
       "    <tr>\n",
       "      <th>339</th>\n",
       "      <td>79.097747</td>\n",
       "      <td>Zhejiang+Quzhou</td>\n",
       "      <td>99.601174</td>\n",
       "    </tr>\n",
       "    <tr>\n",
       "      <th>340</th>\n",
       "      <td>94.671754</td>\n",
       "      <td>Zhejiang+Shaoxing</td>\n",
       "      <td>96.554436</td>\n",
       "    </tr>\n",
       "    <tr>\n",
       "      <th>341</th>\n",
       "      <td>95.714004</td>\n",
       "      <td>Zhejiang+Taizhou</td>\n",
       "      <td>94.300258</td>\n",
       "    </tr>\n",
       "    <tr>\n",
       "      <th>342</th>\n",
       "      <td>97.430320</td>\n",
       "      <td>Zhejiang+Wenzhou</td>\n",
       "      <td>92.875470</td>\n",
       "    </tr>\n",
       "    <tr>\n",
       "      <th>343</th>\n",
       "      <td>98.749609</td>\n",
       "      <td>Zhejiang+Zhoushan</td>\n",
       "      <td>93.638234</td>\n",
       "    </tr>\n",
       "  </tbody>\n",
       "</table>\n",
       "<p>344 rows × 3 columns</p>\n",
       "</div>"
      ],
      "text/plain": [
       "     SDG711_pct          ADM1+ADM2  SDG911_pct\n",
       "0     51.056611       Anhui+Anqing   84.749728\n",
       "1     70.505872       Anhui+Bengbu   94.908604\n",
       "2     57.124918       Anhui+Bozhou   95.735585\n",
       "3     65.594567       Anhui+Chaohu   95.028170\n",
       "4     50.803892      Anhui+Chizhou   80.718768\n",
       "..          ...                ...         ...\n",
       "339   79.097747    Zhejiang+Quzhou   99.601174\n",
       "340   94.671754  Zhejiang+Shaoxing   96.554436\n",
       "341   95.714004   Zhejiang+Taizhou   94.300258\n",
       "342   97.430320   Zhejiang+Wenzhou   92.875470\n",
       "343   98.749609  Zhejiang+Zhoushan   93.638234\n",
       "\n",
       "[344 rows x 3 columns]"
      ]
     },
     "execution_count": 57,
     "metadata": {},
     "output_type": "execute_result"
    }
   ],
   "source": [
    "ElectricityRuralAccess_China2023 = SDG711_ElectricityAccess_China2023.merge(\n",
    "    SDG911_RuralAccess_China2023, on = \"ADM1+ADM2\")\n",
    "\n",
    "ElectricityRuralAccess_China2023"
   ]
  },
  {
   "cell_type": "markdown",
   "id": "0c246706",
   "metadata": {},
   "source": [
    "`e) Merging de NDVI_China2023 y China_ADM2 mediante la columna \"ADM2_PCODE\"`\n",
    "\n",
    "Nota: NDVI_China2023 contiene 334 filas, mientras que China_ADM2, 361. Por tanto, hay 27 valores de \"ADM2_PCODE\" en China_ADM2 que no se encuentran en NDVI_China2023. Así, la tabla resultante del merging también contiene 334 filas."
   ]
  },
  {
   "cell_type": "code",
   "execution_count": 58,
   "id": "d486c6c3",
   "metadata": {},
   "outputs": [
    {
     "data": {
      "text/plain": [
       "27"
      ]
     },
     "execution_count": 58,
     "metadata": {},
     "output_type": "execute_result"
    }
   ],
   "source": [
    "a = set(NDVI_China2023 [\"ADM2_PCODE\"].to_list()) \n",
    "b = set( China_ADM2[\"ADM2_PCODE\"].to_list())\n",
    "len(b-a)"
   ]
  },
  {
   "cell_type": "code",
   "execution_count": 59,
   "id": "96495572",
   "metadata": {
    "scrolled": false
   },
   "outputs": [
    {
     "data": {
      "text/html": [
       "<div>\n",
       "<style scoped>\n",
       "    .dataframe tbody tr th:only-of-type {\n",
       "        vertical-align: middle;\n",
       "    }\n",
       "\n",
       "    .dataframe tbody tr th {\n",
       "        vertical-align: top;\n",
       "    }\n",
       "\n",
       "    .dataframe thead th {\n",
       "        text-align: right;\n",
       "    }\n",
       "</style>\n",
       "<table border=\"1\" class=\"dataframe\">\n",
       "  <thead>\n",
       "    <tr style=\"text-align: right;\">\n",
       "      <th></th>\n",
       "      <th>ADM1_PCODE</th>\n",
       "      <th>ADM2_PCODE</th>\n",
       "      <th>ADM1+ADM2</th>\n",
       "      <th>geometry</th>\n",
       "      <th>NDVI_avg</th>\n",
       "    </tr>\n",
       "  </thead>\n",
       "  <tbody>\n",
       "    <tr>\n",
       "      <th>0</th>\n",
       "      <td>CN065</td>\n",
       "      <td>CN065100</td>\n",
       "      <td>XinjiangUygurAutonomousRegion+Karamay</td>\n",
       "      <td>POLYGON ((-1970139.776 3501254.481, -1968482.7...</td>\n",
       "      <td>0.1105</td>\n",
       "    </tr>\n",
       "    <tr>\n",
       "      <th>1</th>\n",
       "      <td>CN065</td>\n",
       "      <td>CN065060</td>\n",
       "      <td>XinjiangUygurAutonomousRegion+ChangjiHuiAutono...</td>\n",
       "      <td>POLYGON ((-1435866.505 3385323.591, -1441284.2...</td>\n",
       "      <td>0.1252</td>\n",
       "    </tr>\n",
       "    <tr>\n",
       "      <th>2</th>\n",
       "      <td>CN065</td>\n",
       "      <td>CN065130</td>\n",
       "      <td>XinjiangUygurAutonomousRegion+Shihezi</td>\n",
       "      <td>POLYGON ((-1920371.401 3365547.617, -1922878.1...</td>\n",
       "      <td>0.1602</td>\n",
       "    </tr>\n",
       "    <tr>\n",
       "      <th>3</th>\n",
       "      <td>CN015</td>\n",
       "      <td>CN015120</td>\n",
       "      <td>InnerMongoliaAutonomousRegion+XilingolLeague</td>\n",
       "      <td>POLYGON ((993809.799 3455055.691, 1001127.812 ...</td>\n",
       "      <td>0.1543</td>\n",
       "    </tr>\n",
       "    <tr>\n",
       "      <th>4</th>\n",
       "      <td>CN021</td>\n",
       "      <td>CN021020</td>\n",
       "      <td>LiaoningProvince+Benxi</td>\n",
       "      <td>POLYGON ((1534098.705 2791209.973, 1528098.355...</td>\n",
       "      <td>0.3589</td>\n",
       "    </tr>\n",
       "    <tr>\n",
       "      <th>...</th>\n",
       "      <td>...</td>\n",
       "      <td>...</td>\n",
       "      <td>...</td>\n",
       "      <td>...</td>\n",
       "      <td>...</td>\n",
       "    </tr>\n",
       "    <tr>\n",
       "      <th>329</th>\n",
       "      <td>CN034</td>\n",
       "      <td>CN034120</td>\n",
       "      <td>AnhuiProvince+Ma'anshan</td>\n",
       "      <td>POLYGON ((953768.864 1653335.953, 949470.407 1...</td>\n",
       "      <td>0.3478</td>\n",
       "    </tr>\n",
       "    <tr>\n",
       "      <th>330</th>\n",
       "      <td>CN034</td>\n",
       "      <td>CN034150</td>\n",
       "      <td>AnhuiProvince+Wuhu</td>\n",
       "      <td>POLYGON ((879714.068 1672197.689, 883803.058 1...</td>\n",
       "      <td>0.4377</td>\n",
       "    </tr>\n",
       "    <tr>\n",
       "      <th>331</th>\n",
       "      <td>CN046</td>\n",
       "      <td>CN046050</td>\n",
       "      <td>HainanProvince+Danzhou</td>\n",
       "      <td>MULTIPOLYGON (((-30157.327 341902.121, -30159....</td>\n",
       "      <td>0.7388</td>\n",
       "    </tr>\n",
       "    <tr>\n",
       "      <th>332</th>\n",
       "      <td>CN046</td>\n",
       "      <td>CN046080</td>\n",
       "      <td>HainanProvince+Haikou</td>\n",
       "      <td>MULTIPOLYGON (((141006.867 392722.649, 141006....</td>\n",
       "      <td>0.5759</td>\n",
       "    </tr>\n",
       "    <tr>\n",
       "      <th>333</th>\n",
       "      <td>CN046</td>\n",
       "      <td>CN046150</td>\n",
       "      <td>HainanProvince+Sanya</td>\n",
       "      <td>MULTIPOLYGON (((15070.411 199741.112, 15069.53...</td>\n",
       "      <td>0.7342</td>\n",
       "    </tr>\n",
       "  </tbody>\n",
       "</table>\n",
       "<p>334 rows × 5 columns</p>\n",
       "</div>"
      ],
      "text/plain": [
       "    ADM1_PCODE ADM2_PCODE                                          ADM1+ADM2  \\\n",
       "0        CN065   CN065100              XinjiangUygurAutonomousRegion+Karamay   \n",
       "1        CN065   CN065060  XinjiangUygurAutonomousRegion+ChangjiHuiAutono...   \n",
       "2        CN065   CN065130              XinjiangUygurAutonomousRegion+Shihezi   \n",
       "3        CN015   CN015120       InnerMongoliaAutonomousRegion+XilingolLeague   \n",
       "4        CN021   CN021020                             LiaoningProvince+Benxi   \n",
       "..         ...        ...                                                ...   \n",
       "329      CN034   CN034120                            AnhuiProvince+Ma'anshan   \n",
       "330      CN034   CN034150                                 AnhuiProvince+Wuhu   \n",
       "331      CN046   CN046050                             HainanProvince+Danzhou   \n",
       "332      CN046   CN046080                              HainanProvince+Haikou   \n",
       "333      CN046   CN046150                               HainanProvince+Sanya   \n",
       "\n",
       "                                              geometry  NDVI_avg  \n",
       "0    POLYGON ((-1970139.776 3501254.481, -1968482.7...    0.1105  \n",
       "1    POLYGON ((-1435866.505 3385323.591, -1441284.2...    0.1252  \n",
       "2    POLYGON ((-1920371.401 3365547.617, -1922878.1...    0.1602  \n",
       "3    POLYGON ((993809.799 3455055.691, 1001127.812 ...    0.1543  \n",
       "4    POLYGON ((1534098.705 2791209.973, 1528098.355...    0.3589  \n",
       "..                                                 ...       ...  \n",
       "329  POLYGON ((953768.864 1653335.953, 949470.407 1...    0.3478  \n",
       "330  POLYGON ((879714.068 1672197.689, 883803.058 1...    0.4377  \n",
       "331  MULTIPOLYGON (((-30157.327 341902.121, -30159....    0.7388  \n",
       "332  MULTIPOLYGON (((141006.867 392722.649, 141006....    0.5759  \n",
       "333  MULTIPOLYGON (((15070.411 199741.112, 15069.53...    0.7342  \n",
       "\n",
       "[334 rows x 5 columns]"
      ]
     },
     "execution_count": 59,
     "metadata": {},
     "output_type": "execute_result"
    }
   ],
   "source": [
    "ADM2_NDVI_China2023= China_ADM2.merge(NDVI_China2023, on = \"ADM2_PCODE\" )\n",
    "ADM2_NDVI_China2023"
   ]
  },
  {
   "cell_type": "markdown",
   "id": "171bea7f",
   "metadata": {},
   "source": [
    "`f) Fuzzy Merging de NDVI_China2023 y ElectricityRuralAccess_China2023 mediante la columna \"ADM1+ADM2\"`\n",
    "\n",
    "Nota: Se realizó un *fuzzy merge*, porque los valores en la columna \"ADM1+ADM2\" no coinciden exactamente en ambas tablas. En total, se realizaron cuatro fuzzy merging para conservar el mayor número de filas posible."
   ]
  },
  {
   "cell_type": "markdown",
   "id": "b1761b4e",
   "metadata": {},
   "source": [
    "Antes de realizar el fuzzy merge, se determinó el número de valores de \"ADM1+ADM2\" que no coinciden en ambas tablas. Con esto, se obtuvo que ningún valor coincidía, pues la resta del conjunto de valores de \"ADM1+ADM2\" en ElectricityRuralAccess_China2023 con los de NDVI_China2023 dio 344 resultados, equivalente al número total de filas en ElectricityRuralAccess_China2023. Del mismo modo, la resta de conjuntos de NDVI_China2023 con los de ElectricityRuralAccess_China2023 dio 334 resultados, equivalente al número total de filas en NDVI_China2023."
   ]
  },
  {
   "cell_type": "code",
   "execution_count": 60,
   "id": "184dd6a7",
   "metadata": {},
   "outputs": [
    {
     "data": {
      "text/plain": [
       "(344, 334)"
      ]
     },
     "execution_count": 60,
     "metadata": {},
     "output_type": "execute_result"
    }
   ],
   "source": [
    "ADM2_NDVI_set = set(ADM2_NDVI_China2023[\"ADM1+ADM2\"].to_list())\n",
    "ElectricityRuralAccess_set = set(ElectricityRuralAccess_China2023[\"ADM1+ADM2\"].to_list())\n",
    "\n",
    "restaER_AN = ElectricityRuralAccess_set - ADM2_NDVI_set\n",
    "restaAN_ER = ADM2_NDVI_set - ElectricityRuralAccess_set\n",
    "\n",
    "#len(restaER_AN)\n",
    "len(restaER_AN), len(restaAN_ER)"
   ]
  },
  {
   "cell_type": "markdown",
   "id": "6fa5db38",
   "metadata": {},
   "source": [
    "**f.1) Primer *Fuzzy Merging***"
   ]
  },
  {
   "cell_type": "code",
   "execution_count": 61,
   "id": "6d6a2186",
   "metadata": {},
   "outputs": [],
   "source": [
    "from thefuzz import process as fz\n",
    "\n",
    "FuzzChanges1 = {x:fz.extractOne(x,restaER_AN)[0] for x in sorted(restaAN_ER) \n",
    "                if fz.extractOne(x,restaER_AN)[1]==86}\n",
    "\n",
    "# Errores encontrados que deben corregirse manualmente y sustraerse del diccionario FuzzChanges1  \n",
    "ManualChanges_toDiscard1= {'HainanProvince+Danzhou': 'Hainan+Hainan',\n",
    "                   'HainanProvince+Haikou':'Hainan+Hainan',\n",
    "                   'HainanProvince+Sanya':'Hainan+Hainan',\n",
    "                   'JilinProvince+Baicheng':'Jilin+Jilin',\n",
    "                   'JilinProvince+Baishan':'Jilin+Baishan',\n",
    "                   'JilinProvince+Changchun':'Jilin+Jilin',\n",
    "                   'JilinProvince+Liaoyuan':'Jilin+Jilin',\n",
    "                   'JilinProvince+Siping':'Jilin+Jilin',\n",
    "                   'JilinProvince+YanbianKoreanAutonomousPrefecture': 'Jilin+Jilin',\n",
    "                   'QinghaiProvince+HainanTibetanAutonomousPrefecture': 'Hainan+Hainan',\n",
    "                   \"ShaanxiProvince+Xi'an\":\"Sichuan+Ya'an\",\n",
    "                   'ShaanxiProvince+Yulin':'Guangxi+Yulin',\n",
    "                   \"ShandongProvince+Tai'an\":\"Sichuan+Ya'an\",\n",
    "                   \"SichuanProvince+Guang'an\":\"Sichuan+Ya'an\"}\n",
    "\n",
    "TotalChanges1 = dict(set(FuzzChanges1.items())-set(ManualChanges_toDiscard1.items()))\n",
    "\n",
    "ADM2_NDVI_China2023[\"ADM1+ADM2\"].replace(to_replace=TotalChanges1,inplace=True)"
   ]
  },
  {
   "cell_type": "markdown",
   "id": "86b70309",
   "metadata": {},
   "source": [
    "Aún hay 108 valores en la columna \"ADM1+ADM2\" en ADM2_NDVI_China2023 que no coinciden con los de ElectricityRuralAccess:"
   ]
  },
  {
   "cell_type": "code",
   "execution_count": 63,
   "id": "2c78e382",
   "metadata": {},
   "outputs": [
    {
     "data": {
      "text/plain": [
       "(128, 108)"
      ]
     },
     "execution_count": 63,
     "metadata": {},
     "output_type": "execute_result"
    }
   ],
   "source": [
    "ADM2_NDVI_set = set(ADM2_NDVI_China2023[\"ADM1+ADM2\"].to_list())\n",
    "ElectricityRuralAccess_set = set(ElectricityRuralAccess_China2023[\"ADM1+ADM2\"].to_list())\n",
    "\n",
    "restaER_AN_2 = ElectricityRuralAccess_set - ADM2_NDVI_set\n",
    "restaAN_ER_2 = ADM2_NDVI_set - ElectricityRuralAccess_set\n",
    "\n",
    "len(restaER_AN_2), len(restaAN_ER_2)"
   ]
  },
  {
   "cell_type": "markdown",
   "id": "42f9991b",
   "metadata": {},
   "source": [
    "**f.2) Segundo *Fuzzy Merging***\n",
    "\n",
    "Se realiza un segundo *Fuzzy Merging* para intentar recuperar el mayor número de filas restantes."
   ]
  },
  {
   "cell_type": "code",
   "execution_count": 64,
   "id": "96b686e3",
   "metadata": {},
   "outputs": [],
   "source": [
    "FuzzChanges2 = {x:fz.extractOne(x,restaER_AN_2)[0] for x in sorted(restaAN_ER_2) \n",
    "                if fz.extractOne(x,restaER_AN_2)[1]>=80}\n",
    "\n",
    "# Errores encontrados que deben corregirse manualmente y sustraerse del diccionario FuzzChanges1  \n",
    "ManualChanges_toDiscard2= {'HainanProvince+Danzhou': 'Hainan+Hainan',\n",
    "                           'HainanProvince+Haikou': 'Hainan+Hainan',\n",
    "                           'HainanProvince+Sanya': 'Hainan+Hainan',\n",
    "                           'QinghaiProvince+HainanTibetanAutonomousPrefecture': 'Hainan+Hainan',\n",
    "                           'QinghaiProvince+HainanTibetanAutonomousPrefecture': 'Hainan+Hainan',\n",
    "                           \"ShaanxiProvince+Xi'an\":\"Jiangxi+Ji'an\",\n",
    "                           \"SichuanProvince+Guang'an\":\"Shandong+Tai'an\",\n",
    "                           'XinjiangUygurAutonomousRegion+AltayPrefecture':'XinjiangUygur+Aksu',\n",
    "                           'XinjiangUygurAutonomousRegion+BayingolinMongoliaAutonomousPrefecture':'XinjiangUygur+Aksu',\n",
    "                           'XinjiangUygurAutonomousRegion+BortalaMongolAutonomousPrefecture': 'XinjiangUygur+Aksu',\n",
    "                           'XinjiangUygurAutonomousRegion+ChangjiHuiAutonomousPrefecture':'XinjiangUygur+Aksu',\n",
    "                           'XinjiangUygurAutonomousRegion+HotanPrefecture': 'XinjiangUygur+Aksu',\n",
    "                           'XinjiangUygurAutonomousRegion+IliKazakAutonomousPrefecture':'XinjiangUygur+Aksu',\n",
    "                           'XinjiangUygurAutonomousRegion+KashiPrefecture': 'XinjiangUygur+Aksu',\n",
    "                           'XinjiangUygurAutonomousRegion+KizilsuKirgizAutonomousPrefecture': 'XinjiangUygur+Aksu',\n",
    "                           'XinjiangUygurAutonomousRegion+TarbaĝatayPrefecture': 'XinjiangUygur+Aksu',\n",
    "                           'XinjiangUygurAutonomousRegion+Turpan': 'XinjiangUygur+Aksu'}\n",
    "        \n",
    "TotalChanges2 = dict(set(FuzzChanges2.items())-set(ManualChanges_toDiscard2.items()))\n",
    "ADM2_NDVI_China2023[\"ADM1+ADM2\"].replace(to_replace=TotalChanges2,inplace=True)"
   ]
  },
  {
   "cell_type": "markdown",
   "id": "e52eed5d",
   "metadata": {},
   "source": [
    "El número de valores en la columna \"ADM1+ADM2\" en ADM2_NDVI_China2023 que no coinciden con los de ElectricityRuralAccess ha reducido de 108 a 53 con el segundo *fuzzy merging*:"
   ]
  },
  {
   "cell_type": "code",
   "execution_count": 65,
   "id": "b97ffd52",
   "metadata": {},
   "outputs": [
    {
     "data": {
      "text/plain": [
       "(75, 53)"
      ]
     },
     "execution_count": 65,
     "metadata": {},
     "output_type": "execute_result"
    }
   ],
   "source": [
    "ADM2_NDVI_set = set(ADM2_NDVI_China2023[\"ADM1+ADM2\"].to_list())\n",
    "ElectricityRuralAccess_set = set(ElectricityRuralAccess_China2023[\"ADM1+ADM2\"].to_list())\n",
    "\n",
    "restaER_AN_3 = ElectricityRuralAccess_set - ADM2_NDVI_set\n",
    "restaAN_ER_3 = ADM2_NDVI_set - ElectricityRuralAccess_set\n",
    "\n",
    "len(restaER_AN_3), len(restaAN_ER_3)"
   ]
  },
  {
   "cell_type": "markdown",
   "id": "3065012e",
   "metadata": {},
   "source": [
    "**f.3) Tercer *Fuzzy Merging***\n",
    "\n",
    "Se realiza un tercer *Fuzzy Merging* para intentar recuperar el mayor número de filas restantes."
   ]
  },
  {
   "cell_type": "code",
   "execution_count": 66,
   "id": "871f63c3",
   "metadata": {},
   "outputs": [],
   "source": [
    "FuzzChanges3 = {x:fz.extractOne(x,restaER_AN_3)[0] for x in sorted(restaAN_ER_3) \n",
    "                if fz.extractOne(x,restaER_AN_3)[1]>=50}\n",
    "\n",
    "# Errores encontrados que deben corregirse manualmente y sustraerse del diccionario FuzzChanges1  \n",
    "ManualChanges_toDiscard3= {'HainanProvince+Danzhou': 'Hainan+Hainan',\n",
    "                           'HainanProvince+Haikou':'Hainan+Hainan',\n",
    "                           'HainanProvince+Sanya': 'Hainan+Hainan',\n",
    "                           'HubeiProvince+Xiangyang': 'Hubei+Xiangfan',\n",
    "                           'InnerMongoliaAutonomousRegion+HingganLeague':'NeiMongol+Alxa',\n",
    "                           'InnerMongoliaAutonomousRegion+Ulanqab':'NeiMongol+Alxa',\n",
    "                           'LiaoningProvince+Yingkou':'Xizang+Ngari',\n",
    "                           'QinghaiProvince+HainanTibetanAutonomousPrefecture':'Hainan+Hainan',\n",
    "                           'QinghaiProvince+YushuTibetanAutonomousPrefecture': 'Hubei+Xiantao',\n",
    "                           \"ShaanxiProvince+Xi'an\": \"Shaanxi+Yan'an\",\n",
    "                           \"SichuanProvince+Guang'an\": \"Shaanxi+Yan'an\",\n",
    "                           'SichuanProvince+LiangshanYiAutonomousPrefecture': 'Shanxi+Luliang',\n",
    "                           'TibetAutonomousRegion+Lhoka': 'NeiMongol+Alxa',\n",
    "                           'TibetAutonomousRegion+Xigazê': \"NeiMongol+Xing'an\",\n",
    "                           'XinjiangUygurAutonomousRegion+BayingolinMongoliaAutonomousPrefecture': 'XinjiangUygur+Altay',\n",
    "                           'XinjiangUygurAutonomousRegion+BortalaMongolAutonomousPrefecture': 'XinjiangUygur+Altay',\n",
    "                           'XinjiangUygurAutonomousRegion+ChangjiHuiAutonomousPrefecture': 'XinjiangUygur+Altay',\n",
    "                           'XinjiangUygurAutonomousRegion+HotanPrefecture': 'XinjiangUygur+Altay',\n",
    "                           'XinjiangUygurAutonomousRegion+IliKazakAutonomousPrefecture': 'XinjiangUygur+Altay',\n",
    "                           'XinjiangUygurAutonomousRegion+KashiPrefecture': 'XinjiangUygur+Altay',\n",
    "                           'XinjiangUygurAutonomousRegion+KizilsuKirgizAutonomousPrefecture':'XinjiangUygur+Altay',\n",
    "                           'XinjiangUygurAutonomousRegion+TarbaĝatayPrefecture':'XinjiangUygur+Altay'}\n",
    "                                                      \n",
    "TotalChanges3 = dict(set(FuzzChanges3.items())-set(ManualChanges_toDiscard3.items()))\n",
    "ADM2_NDVI_China2023[\"ADM1+ADM2\"].replace(to_replace=TotalChanges3,inplace=True)"
   ]
  },
  {
   "cell_type": "markdown",
   "id": "32f495c5",
   "metadata": {},
   "source": [
    "El número de valores en la columna \"ADM1+ADM2\" en ADM2_NDVI_China2023 que no coinciden con los de ElectricityRuralAccess ha reducido de 53 a 21 con el tercer fuzzy merging:"
   ]
  },
  {
   "cell_type": "code",
   "execution_count": 68,
   "id": "e765010d",
   "metadata": {},
   "outputs": [
    {
     "data": {
      "text/plain": [
       "(43, 21)"
      ]
     },
     "execution_count": 68,
     "metadata": {},
     "output_type": "execute_result"
    }
   ],
   "source": [
    "ADM2_NDVI_set = set(ADM2_NDVI_China2023[\"ADM1+ADM2\"].to_list())\n",
    "ElectricityRuralAccess_set = set(ElectricityRuralAccess_China2023[\"ADM1+ADM2\"].to_list())\n",
    "\n",
    "restaER_AN_4 = ElectricityRuralAccess_set - ADM2_NDVI_set\n",
    "restaAN_ER_4 = ADM2_NDVI_set - ElectricityRuralAccess_set\n",
    "\n",
    "len(restaER_AN_4), len(restaAN_ER_4)"
   ]
  },
  {
   "cell_type": "markdown",
   "id": "e737c92c",
   "metadata": {},
   "source": [
    "**f.4) Cuarto *Fuzzy Merging***\n",
    "\n",
    "Se realiza un último *Fuzzy Merging* para intentar recuperar el mayor número de columnas de las restantes."
   ]
  },
  {
   "cell_type": "code",
   "execution_count": 71,
   "id": "b7601e86",
   "metadata": {},
   "outputs": [],
   "source": [
    "FuzzChanges4 = {x:fz.extractOne(x,restaER_AN_4) for x in sorted(restaAN_ER_4) \n",
    "                if fz.extractOne(x,restaER_AN_4)[1]>=50}"
   ]
  },
  {
   "cell_type": "markdown",
   "id": "438842bc",
   "metadata": {},
   "source": [
    "Del cuarto *Fuzzy Merging* realizado, solo se observan dos nombres equivalentes. Por tanto, del total de 334 filas, se han logrado recuperar 334-21+2 = 315."
   ]
  },
  {
   "cell_type": "code",
   "execution_count": 72,
   "id": "ff6c1db9",
   "metadata": {},
   "outputs": [],
   "source": [
    "TotalChanges4 = {'SichuanProvince+LiangshanYiAutonomousPrefecture': 'Sichuan+LiangshanYi',\n",
    "                'InnerMongoliaAutonomousRegion+Ulanqab':'NeiMongol+UlaanChab'}\n",
    "\n",
    "ADM2_NDVI_China2023[\"ADM1+ADM2\"].replace(to_replace=TotalChanges4,inplace=True)"
   ]
  },
  {
   "cell_type": "code",
   "execution_count": 73,
   "id": "f67a915a",
   "metadata": {},
   "outputs": [
    {
     "data": {
      "text/plain": [
       "(41, 19)"
      ]
     },
     "execution_count": 73,
     "metadata": {},
     "output_type": "execute_result"
    }
   ],
   "source": [
    "ADM2_NDVI_set = set(ADM2_NDVI_China2023[\"ADM1+ADM2\"].to_list())\n",
    "ElectricityRuralAccess_set = set(ElectricityRuralAccess_China2023[\"ADM1+ADM2\"].to_list())\n",
    "\n",
    "restaER_AN_5 = ElectricityRuralAccess_set - ADM2_NDVI_set\n",
    "restaAN_ER_5 = ADM2_NDVI_set - ElectricityRuralAccess_set\n",
    "\n",
    "len(restaER_AN_5), len(restaAN_ER_5)"
   ]
  },
  {
   "cell_type": "markdown",
   "id": "fb3d7308",
   "metadata": {},
   "source": [
    "`g) Fuzzy Merging de ADM2_NDVI_China2023 y ElectricityRuralAccess_China2023 mediante la columna \"ADM1+ADM2\"`\n",
    "\n",
    "Finalmente, tras asegurar que se ha logrado recuperar el mayor número de filas posible (315), se realiza el *merge* entre ambas tablas."
   ]
  },
  {
   "cell_type": "code",
   "execution_count": 77,
   "id": "6cb4759b",
   "metadata": {},
   "outputs": [
    {
     "data": {
      "text/html": [
       "<div>\n",
       "<style scoped>\n",
       "    .dataframe tbody tr th:only-of-type {\n",
       "        vertical-align: middle;\n",
       "    }\n",
       "\n",
       "    .dataframe tbody tr th {\n",
       "        vertical-align: top;\n",
       "    }\n",
       "\n",
       "    .dataframe thead th {\n",
       "        text-align: right;\n",
       "    }\n",
       "</style>\n",
       "<table border=\"1\" class=\"dataframe\">\n",
       "  <thead>\n",
       "    <tr style=\"text-align: right;\">\n",
       "      <th></th>\n",
       "      <th>ADM1_PCODE</th>\n",
       "      <th>ADM2_PCODE</th>\n",
       "      <th>ADM1+ADM2</th>\n",
       "      <th>geometry</th>\n",
       "      <th>NDVI_avg</th>\n",
       "      <th>SDG711_pct</th>\n",
       "      <th>SDG911_pct</th>\n",
       "    </tr>\n",
       "  </thead>\n",
       "  <tbody>\n",
       "    <tr>\n",
       "      <th>0</th>\n",
       "      <td>CN065</td>\n",
       "      <td>CN065100</td>\n",
       "      <td>XinjiangUygur+Karamay</td>\n",
       "      <td>POLYGON ((-1970139.776 3501254.481, -1968482.7...</td>\n",
       "      <td>0.1105</td>\n",
       "      <td>93.430917</td>\n",
       "      <td>96.716076</td>\n",
       "    </tr>\n",
       "    <tr>\n",
       "      <th>1</th>\n",
       "      <td>CN065</td>\n",
       "      <td>CN065130</td>\n",
       "      <td>XinjiangUygur+Shihezi</td>\n",
       "      <td>POLYGON ((-1920371.401 3365547.617, -1922878.1...</td>\n",
       "      <td>0.1602</td>\n",
       "      <td>90.450636</td>\n",
       "      <td>99.387351</td>\n",
       "    </tr>\n",
       "    <tr>\n",
       "      <th>2</th>\n",
       "      <td>CN015</td>\n",
       "      <td>CN015120</td>\n",
       "      <td>NeiMongol+XilinGol</td>\n",
       "      <td>POLYGON ((993809.799 3455055.691, 1001127.812 ...</td>\n",
       "      <td>0.1543</td>\n",
       "      <td>47.628330</td>\n",
       "      <td>60.672959</td>\n",
       "    </tr>\n",
       "    <tr>\n",
       "      <th>3</th>\n",
       "      <td>CN021</td>\n",
       "      <td>CN021020</td>\n",
       "      <td>Liaoning+Benxi</td>\n",
       "      <td>POLYGON ((1534098.705 2791209.973, 1528098.355...</td>\n",
       "      <td>0.3589</td>\n",
       "      <td>83.573906</td>\n",
       "      <td>87.998619</td>\n",
       "    </tr>\n",
       "    <tr>\n",
       "      <th>4</th>\n",
       "      <td>CN062</td>\n",
       "      <td>CN062040</td>\n",
       "      <td>Gansu+Jiayuguan</td>\n",
       "      <td>POLYGON ((-916257.824 2656685.604, -915093.765...</td>\n",
       "      <td>0.0780</td>\n",
       "      <td>98.106990</td>\n",
       "      <td>96.070047</td>\n",
       "    </tr>\n",
       "    <tr>\n",
       "      <th>...</th>\n",
       "      <td>...</td>\n",
       "      <td>...</td>\n",
       "      <td>...</td>\n",
       "      <td>...</td>\n",
       "      <td>...</td>\n",
       "      <td>...</td>\n",
       "      <td>...</td>\n",
       "    </tr>\n",
       "    <tr>\n",
       "      <th>310</th>\n",
       "      <td>CN022</td>\n",
       "      <td>CN022090</td>\n",
       "      <td>Jilin+YanbianKorean</td>\n",
       "      <td>MULTIPOLYGON (((1966883.942 3009006.671, 19666...</td>\n",
       "      <td>0.3903</td>\n",
       "      <td>77.620545</td>\n",
       "      <td>84.603794</td>\n",
       "    </tr>\n",
       "    <tr>\n",
       "      <th>311</th>\n",
       "      <td>CN023</td>\n",
       "      <td>CN023080</td>\n",
       "      <td>Heilongjiang+Mudanjiang</td>\n",
       "      <td>POLYGON ((1854708.756 3429274.247, 1856117.027...</td>\n",
       "      <td>0.3489</td>\n",
       "      <td>67.108739</td>\n",
       "      <td>76.832415</td>\n",
       "    </tr>\n",
       "    <tr>\n",
       "      <th>312</th>\n",
       "      <td>CN021</td>\n",
       "      <td>CN021040</td>\n",
       "      <td>Liaoning+Dalian</td>\n",
       "      <td>MULTIPOLYGON (((1161673.363 2517466.154, 11616...</td>\n",
       "      <td>0.3056</td>\n",
       "      <td>87.393022</td>\n",
       "      <td>98.659882</td>\n",
       "    </tr>\n",
       "    <tr>\n",
       "      <th>313</th>\n",
       "      <td>CN062</td>\n",
       "      <td>CN062100</td>\n",
       "      <td>Gansu+Pingliang</td>\n",
       "      <td>POLYGON ((-178141.426 2162423.939, -177070.322...</td>\n",
       "      <td>0.3662</td>\n",
       "      <td>47.468925</td>\n",
       "      <td>90.866637</td>\n",
       "    </tr>\n",
       "    <tr>\n",
       "      <th>314</th>\n",
       "      <td>CN034</td>\n",
       "      <td>CN034150</td>\n",
       "      <td>Anhui+Wuhu</td>\n",
       "      <td>POLYGON ((879714.068 1672197.689, 883803.058 1...</td>\n",
       "      <td>0.4377</td>\n",
       "      <td>88.761587</td>\n",
       "      <td>97.805658</td>\n",
       "    </tr>\n",
       "  </tbody>\n",
       "</table>\n",
       "<p>315 rows × 7 columns</p>\n",
       "</div>"
      ],
      "text/plain": [
       "    ADM1_PCODE ADM2_PCODE                ADM1+ADM2  \\\n",
       "0        CN065   CN065100    XinjiangUygur+Karamay   \n",
       "1        CN065   CN065130    XinjiangUygur+Shihezi   \n",
       "2        CN015   CN015120       NeiMongol+XilinGol   \n",
       "3        CN021   CN021020           Liaoning+Benxi   \n",
       "4        CN062   CN062040          Gansu+Jiayuguan   \n",
       "..         ...        ...                      ...   \n",
       "310      CN022   CN022090      Jilin+YanbianKorean   \n",
       "311      CN023   CN023080  Heilongjiang+Mudanjiang   \n",
       "312      CN021   CN021040          Liaoning+Dalian   \n",
       "313      CN062   CN062100          Gansu+Pingliang   \n",
       "314      CN034   CN034150               Anhui+Wuhu   \n",
       "\n",
       "                                              geometry  NDVI_avg  SDG711_pct  \\\n",
       "0    POLYGON ((-1970139.776 3501254.481, -1968482.7...    0.1105   93.430917   \n",
       "1    POLYGON ((-1920371.401 3365547.617, -1922878.1...    0.1602   90.450636   \n",
       "2    POLYGON ((993809.799 3455055.691, 1001127.812 ...    0.1543   47.628330   \n",
       "3    POLYGON ((1534098.705 2791209.973, 1528098.355...    0.3589   83.573906   \n",
       "4    POLYGON ((-916257.824 2656685.604, -915093.765...    0.0780   98.106990   \n",
       "..                                                 ...       ...         ...   \n",
       "310  MULTIPOLYGON (((1966883.942 3009006.671, 19666...    0.3903   77.620545   \n",
       "311  POLYGON ((1854708.756 3429274.247, 1856117.027...    0.3489   67.108739   \n",
       "312  MULTIPOLYGON (((1161673.363 2517466.154, 11616...    0.3056   87.393022   \n",
       "313  POLYGON ((-178141.426 2162423.939, -177070.322...    0.3662   47.468925   \n",
       "314  POLYGON ((879714.068 1672197.689, 883803.058 1...    0.4377   88.761587   \n",
       "\n",
       "     SDG911_pct  \n",
       "0     96.716076  \n",
       "1     99.387351  \n",
       "2     60.672959  \n",
       "3     87.998619  \n",
       "4     96.070047  \n",
       "..          ...  \n",
       "310   84.603794  \n",
       "311   76.832415  \n",
       "312   98.659882  \n",
       "313   90.866637  \n",
       "314   97.805658  \n",
       "\n",
       "[315 rows x 7 columns]"
      ]
     },
     "execution_count": 77,
     "metadata": {},
     "output_type": "execute_result"
    }
   ],
   "source": [
    "ADM2_NDVI_ER_China2023= ADM2_NDVI_China2023.merge(ElectricityRuralAccess_China2023, on = \"ADM1+ADM2\")\n",
    "ADM2_NDVI_ER_China2023"
   ]
  },
  {
   "cell_type": "markdown",
   "id": "9197473f",
   "metadata": {},
   "source": [
    "## Ejercicio 6\n",
    "\n",
    "1. Choose a numeric variable from your merged data.\n",
    "2. Decide which is the  best classification scheme for that variable. #Histograma para la variable numérica\n",
    "3. Make a map for the best scheme. #Ejm: mapa de Perú para IDH\n",
    "4. Make a histogram for the best scheme. #Con el mejor algoritmo"
   ]
  },
  {
   "cell_type": "code",
   "execution_count": null,
   "id": "0469a492",
   "metadata": {},
   "outputs": [],
   "source": []
  },
  {
   "cell_type": "markdown",
   "id": "5087a1d4",
   "metadata": {},
   "source": [
    "## Ejercicio 7\n",
    "\n",
    "Compute the neighbors of the capital of your country. Plot the results for each of the options."
   ]
  },
  {
   "cell_type": "markdown",
   "id": "dc7ea41e",
   "metadata": {},
   "source": [
    "## Ejercicio 8\n",
    "\n",
    "1. Compute the Moran's coefficient for **all** your numeric variables.\n",
    "    \n",
    "2. Make a scatter plot for each variable."
   ]
  },
  {
   "cell_type": "markdown",
   "id": "a983380b",
   "metadata": {},
   "source": [
    "## Ejercicio 9\n",
    "    \n",
    "1. Compute the Local Moran for the variables in your data that have significant spatial correlation. \n",
    "2. Create a new column for each of those variables, with a label ('0 no_sig', '1 hotSpot', '2 coldOutlier', '3 coldSpot', '4 hotOutlier').\n",
    "3. Prepare a map for each of the variables analyzed, showing the spots and outliers. (3 variables: 3 mapas)"
   ]
  }
 ],
 "metadata": {
  "kernelspec": {
   "display_name": "Python 3 (ipykernel)",
   "language": "python",
   "name": "python3"
  },
  "language_info": {
   "codemirror_mode": {
    "name": "ipython",
    "version": 3
   },
   "file_extension": ".py",
   "mimetype": "text/x-python",
   "name": "python",
   "nbconvert_exporter": "python",
   "pygments_lexer": "ipython3",
   "version": "3.11.5"
  }
 },
 "nbformat": 4,
 "nbformat_minor": 5
}
