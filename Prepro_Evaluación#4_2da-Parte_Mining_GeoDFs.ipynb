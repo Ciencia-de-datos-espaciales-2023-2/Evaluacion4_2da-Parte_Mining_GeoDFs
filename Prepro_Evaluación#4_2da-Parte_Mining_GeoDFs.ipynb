{
 "cells": [
  {
   "cell_type": "markdown",
   "id": "bce2dd86",
   "metadata": {},
   "source": [
    "# Ejercicios Parte II\n",
    "\n",
    "<div class=\"alert-warning\">\n",
    "Los ejercicios 5, 6, 7, 8 y 9 de esta parte deben leer su data de links en Github y el código y los resultados deben ser publicados en páginas en Github. Este es un proyecto distinto y los ejercicios tienen que ser publicados en una página diferente.\n",
    "\n",
    "</div>"
   ]
  },
  {
   "cell_type": "markdown",
   "id": "29290b4b",
   "metadata": {},
   "source": [
    "## Ejercicio 5\n",
    "### Exercise 5: Es preparar la data (juntar la geometría con una tabla de datos)\n",
    "\n",
    "<div class=\"alert-success\">\n",
    "    \n",
    "1. Get a polygons map of the lowest administrative unit possible. (China: a nivel de prefecturas)\n",
    "    \n",
    "2. Get a table of variables for those units. At least 3 numerical variables. (Conseguir una tabla de datos por prefectura con un mínimo de 3 variables numéricas. Población y superficie no interesan, sino indicadores de pobreza, etc.)\n",
    "\n",
    "3. Preprocess both tables and get them ready for merging. \n",
    "\n",
    "4. Do the merging, making the changes needed so that you keep the most columns.(Solo un merge. Toda la data ya fue preprocesada)\n",
    "    \n",
    "    \n",
    "</div>"
   ]
  },
  {
   "cell_type": "markdown",
   "id": "9197473f",
   "metadata": {},
   "source": [
    "## Ejercicio 6\n",
    "\n",
    "<div class=\"alert-success\">\n",
    "    \n",
    "1. Choose a numeric variable from your merged data.\n",
    "2. Decide which is the  best classification scheme for that variable. #Histograma para la variable numérica\n",
    "3. Make a map for the best scheme. #Ejm: mapa de Perú para IDH\n",
    "4. Make a histogram for the best scheme. #Con el mejor algoritmo\n",
    "</div>"
   ]
  },
  {
   "cell_type": "markdown",
   "id": "5087a1d4",
   "metadata": {},
   "source": [
    "## Ejercicio 7\n",
    "\n",
    "<div class=\"alert-success\">\n",
    "        \n",
    "Compute the neighbors of the capital of your country. Plot the results for each of the options.\n",
    "    \n",
    "</div>"
   ]
  },
  {
   "cell_type": "markdown",
   "id": "dc7ea41e",
   "metadata": {},
   "source": [
    "## Ejercicio 8\n",
    "\n",
    "<div class=\"alert-success\">\n",
    "    \n",
    "1. Compute the Moran's coefficient for **all** your numeric variables.\n",
    "    \n",
    "2. Make a scatter plot for each variable.\n",
    "    \n",
    "</div>"
   ]
  },
  {
   "cell_type": "markdown",
   "id": "a983380b",
   "metadata": {},
   "source": [
    "## Ejercicio 9\n",
    "\n",
    "<div class=\"alert-success\">\n",
    "    \n",
    "1. Compute the Local Moran for the variables in your data that have significant spatial correlation. \n",
    "    \n",
    "2. Create a new column for each of those variables, with a label ('0 no_sig', '1 hotSpot', '2 coldOutlier', '3 coldSpot', '4 hotOutlier').\n",
    "\n",
    "3. Prepare a map for each of the variables analyzed, showing the spots and outliers. (3 variables: 3 mapas)\n",
    "    \n",
    "</div>"
   ]
  }
 ],
 "metadata": {
  "kernelspec": {
   "display_name": "Python 3 (ipykernel)",
   "language": "python",
   "name": "python3"
  },
  "language_info": {
   "codemirror_mode": {
    "name": "ipython",
    "version": 3
   },
   "file_extension": ".py",
   "mimetype": "text/x-python",
   "name": "python",
   "nbconvert_exporter": "python",
   "pygments_lexer": "ipython3",
   "version": "3.11.5"
  }
 },
 "nbformat": 4,
 "nbformat_minor": 5
}
